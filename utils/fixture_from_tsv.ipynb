{
 "cells": [
  {
   "cell_type": "code",
   "execution_count": 1,
   "metadata": {},
   "outputs": [],
   "source": [
    "import pandas as pd"
   ]
  },
  {
   "cell_type": "code",
   "execution_count": 3,
   "metadata": {},
   "outputs": [],
   "source": [
    "tsv_model_mapping = {\n",
    "    \"city\": {\n",
    "        \"file\": \"city.tsv\",\n",
    "        \"model\": \"api.City\",\n",
    "        \"fields\": {\n",
    "            #tsv_fields: model_fields\n",
    "            \"name\": \"name\",\n",
    "        }\n",
    "    }\n",
    "}"
   ]
  },
  {
   "cell_type": "code",
   "execution_count": 37,
   "metadata": {},
   "outputs": [],
   "source": [
    "#convert currency.tsv to valid fixtures json\n",
    "currency_df = pd.read_csv('../data_lists/currency.tsv', '\\t')\n",
    "currency_df.head()\n",
    "currency_df.apply(currency_tsv_to_json, axis=1).to_json(\"currency_fixture.json\", orient=\"records\")"
   ]
  },
  {
   "cell_type": "code",
   "execution_count": 38,
   "metadata": {},
   "outputs": [],
   "source": [
    "#convert country.tsv to valid fixtures json\n",
    "country_df = pd.read_csv('../data_lists/country.tsv', '\\t')\n",
    "country_df.head()\n",
    "country_df.apply(countries_tsv_to_json, axis=1).to_json(\"countries_fixture.json\", orient=\"records\")"
   ]
  },
  {
   "cell_type": "code",
   "execution_count": 39,
   "metadata": {},
   "outputs": [],
   "source": [
    "#convert city.tsv to valid fixtures json\n",
    "city_df = pd.read_csv('../data_lists/city.tsv', '\\t')\n",
    "city_df.head()\n",
    "city_df.apply(city_tsv_to_json, axis=1).to_json(\"city_fixtures.json\", orient=\"records\")"
   ]
  },
  {
   "cell_type": "code",
   "execution_count": 43,
   "metadata": {},
   "outputs": [],
   "source": [
    "#convert unit.tsv to valid fixtures json\n",
    "unit_df = pd.read_csv('../data_lists/unit.tsv', '\\t')\n",
    "unit_df.head()\n",
    "unit_df.apply(unit_tsv_to_json, axis=1).to_json(\"unit_fixtures.json\", orient=\"records\")"
   ]
  },
  {
   "cell_type": "code",
   "execution_count": 44,
   "metadata": {},
   "outputs": [
    {
     "data": {
      "text/html": [
       "<div>\n",
       "<style scoped>\n",
       "    .dataframe tbody tr th:only-of-type {\n",
       "        vertical-align: middle;\n",
       "    }\n",
       "\n",
       "    .dataframe tbody tr th {\n",
       "        vertical-align: top;\n",
       "    }\n",
       "\n",
       "    .dataframe thead th {\n",
       "        text-align: right;\n",
       "    }\n",
       "</style>\n",
       "<table border=\"1\" class=\"dataframe\">\n",
       "  <thead>\n",
       "    <tr style=\"text-align: right;\">\n",
       "      <th></th>\n",
       "      <th>id</th>\n",
       "      <th>xqid</th>\n",
       "      <th>name</th>\n",
       "      <th>fullname</th>\n",
       "      <th>format</th>\n",
       "    </tr>\n",
       "  </thead>\n",
       "  <tbody>\n",
       "    <tr>\n",
       "      <td>0</td>\n",
       "      <td>1</td>\n",
       "      <td>VOL</td>\n",
       "      <td>\\N</td>\n",
       "      <td>None</td>\n",
       "      <td>NaN</td>\n",
       "    </tr>\n",
       "    <tr>\n",
       "      <td>1</td>\n",
       "      <td>2</td>\n",
       "      <td>SQM</td>\n",
       "      <td>sqm</td>\n",
       "      <td>square meters</td>\n",
       "      <td>#,##0.0</td>\n",
       "    </tr>\n",
       "    <tr>\n",
       "      <td>2</td>\n",
       "      <td>4</td>\n",
       "      <td>PCT</td>\n",
       "      <td>%</td>\n",
       "      <td>per cent</td>\n",
       "      <td>0.0%</td>\n",
       "    </tr>\n",
       "    <tr>\n",
       "      <td>3</td>\n",
       "      <td>5</td>\n",
       "      <td>PRS</td>\n",
       "      <td>ppl</td>\n",
       "      <td>persons</td>\n",
       "      <td>#</td>\n",
       "    </tr>\n",
       "  </tbody>\n",
       "</table>\n",
       "</div>"
      ],
      "text/plain": [
       "   id xqid name       fullname   format\n",
       "0   1  VOL   \\N           None      NaN\n",
       "1   2  SQM  sqm  square meters  #,##0.0\n",
       "2   4  PCT    %       per cent     0.0%\n",
       "3   5  PRS  ppl        persons        #"
      ]
     },
     "execution_count": 44,
     "metadata": {},
     "output_type": "execute_result"
    }
   ],
   "source": [
    "unit_df.head()"
   ]
  },
  {
   "cell_type": "code",
   "execution_count": 30,
   "metadata": {},
   "outputs": [],
   "source": [
    "def unit_tsv_to_json(row):\n",
    "    return {\n",
    "        \"model\": \"api.Unit\",\n",
    "        \"pk\": row['id'],\n",
    "        \"fields\": {\n",
    "            \"name\": row['name'],\n",
    "            \"fullname\": row['fullname'],\n",
    "        }\n",
    "    }\n",
    "\n",
    "def currency_tsv_to_json(row):\n",
    "    return {\n",
    "        \"model\": \"api.Currency\",\n",
    "        \"pk\": row['id'],\n",
    "        \"fields\": {\n",
    "            \"code\":row['ISO3'],\n",
    "            \"name\": row['name'],\n",
    "            \"symbol\": row['symbol']\n",
    "        }\n",
    "    }\n",
    "\n",
    "def countries_tsv_to_json(row):\n",
    "    return{\n",
    "        \"model\": \"api.Country\",\n",
    "        \"pk\": row['id'],\n",
    "        \"fields\": {\n",
    "            \"name\": row['name'],\n",
    "            \"alpha2_code\": row['ISO2'],\n",
    "            \"alpha3_code\": row['ISO3'],\n",
    "            \"currency\": row['currency_id'],\n",
    "            \"shape\": None,\n",
    "            \"point\": None,\n",
    "        }\n",
    "    }\n",
    "\n",
    "def city_tsv_to_json(row):\n",
    "    return {\n",
    "        \"model\": \"api.City\",\n",
    "        \"pk\": row['id'],\n",
    "        \"fields\": {\n",
    "            \"name\": row['name'],\n",
    "            \"country\": row['country_id'],\n",
    "            \"point\": 'POINT ({lat} {lng})'.format(lat=row['latitude'], lng=row['longitude']),\n",
    "            \"shape\": None,\n",
    "        }\n",
    "    }"
   ]
  },
  {
   "cell_type": "code",
   "execution_count": 24,
   "metadata": {},
   "outputs": [],
   "source": [
    "cities = city_df.apply(city_tsv_to_json, axis=1)"
   ]
  },
  {
   "cell_type": "code",
   "execution_count": 25,
   "metadata": {},
   "outputs": [
    {
     "data": {
      "text/plain": [
       "{'model': 'api.City',\n",
       " 'pk': 1,\n",
       " 'fields': {'name': 'Andorra la Vella',\n",
       "  'country': 1,\n",
       "  'point': 'POINT (42.506316999999996 1.521835)',\n",
       "  'shape': None}}"
      ]
     },
     "execution_count": 25,
     "metadata": {},
     "output_type": "execute_result"
    }
   ],
   "source": [
    "cities[0]"
   ]
  },
  {
   "cell_type": "code",
   "execution_count": null,
   "metadata": {},
   "outputs": [],
   "source": []
  }
 ],
 "metadata": {
  "kernelspec": {
   "display_name": "Python 3",
   "language": "python",
   "name": "python3"
  },
  "language_info": {
   "codemirror_mode": {
    "name": "ipython",
    "version": 3
   },
   "file_extension": ".py",
   "mimetype": "text/x-python",
   "name": "python",
   "nbconvert_exporter": "python",
   "pygments_lexer": "ipython3",
   "version": "3.7.4"
  }
 },
 "nbformat": 4,
 "nbformat_minor": 2
}
