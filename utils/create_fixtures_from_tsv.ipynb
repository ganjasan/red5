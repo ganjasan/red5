{
 "cells": [
  {
   "cell_type": "code",
   "execution_count": 1,
   "metadata": {},
   "outputs": [],
   "source": [
    "import pandas as pd"
   ]
  },
  {
   "cell_type": "code",
   "execution_count": 3,
   "metadata": {},
   "outputs": [],
   "source": [
    "tsv_model_mapping = {\n",
    "    \"city\": {\n",
    "        \"file\": \"city.tsv\",\n",
    "        \"model\": \"api.City\",\n",
    "        \"fields\": {\n",
    "            #tsv_fields: model_fields\n",
    "            \"name\": \"name\",\n",
    "        }\n",
    "    }\n",
    "}"
   ]
  },
  {
   "cell_type": "code",
   "execution_count": 35,
   "metadata": {},
   "outputs": [],
   "source": [
    "#convert currency.tsv to valid fixtures json\n",
    "currency_df = pd.read_csv('../data_lists/currency.tsv', '\\t')\n",
    "currency_df.head()\n",
    "currency_json = currency_df.apply(currency_tsv_to_json, axis=1).to_json(\"currency_fixtureorient=\"records\")\n"
   ]
  },
  {
   "cell_type": "code",
   "execution_count": 36,
   "metadata": {},
   "outputs": [
    {
     "data": {
      "text/plain": [
       "'[{\"model\":\"api.Currency\",\"pk\":1,\"fields\":{\"code\":\"AED\",\"name\":\"UAE Dirham\",\"symbol\":null}},{\"model\":\"api.Currency\",\"pk\":2,\"fields\":{\"code\":\"AFN\",\"name\":\"Afghani\",\"symbol\":\"\\\\u060b\"}},{\"model\":\"api.Currency\",\"pk\":3,\"fields\":{\"code\":\"ALL\",\"name\":\"Lek\",\"symbol\":\"Lek\"}},{\"model\":\"api.Currency\",\"pk\":4,\"fields\":{\"code\":\"AMD\",\"name\":\"Armenian Dram\",\"symbol\":null}},{\"model\":\"api.Currency\",\"pk\":5,\"fields\":{\"code\":\"ANG\",\"name\":\"Netherlands Antillean Guilder\",\"symbol\":\"\\\\u0192\"}},{\"model\":\"api.Currency\",\"pk\":6,\"fields\":{\"code\":\"AOA\",\"name\":\"Kwanza\",\"symbol\":null}},{\"model\":\"api.Currency\",\"pk\":7,\"fields\":{\"code\":\"ARS\",\"name\":\"Argentine Peso\",\"symbol\":\"$\"}},{\"model\":\"api.Currency\",\"pk\":8,\"fields\":{\"code\":\"AUD\",\"name\":\"Australian Dollar\",\"symbol\":\"$\"}},{\"model\":\"api.Currency\",\"pk\":9,\"fields\":{\"code\":\"AWG\",\"name\":\"Aruban Florin\",\"symbol\":\"\\\\u0192\"}},{\"model\":\"api.Currency\",\"pk\":10,\"fields\":{\"code\":\"AZN\",\"name\":\"Azerbaijanian Manat\",\"symbol\":\"\\\\u043c\\\\u0430\\\\u043d\"}},{\"model\":\"api.Currency\",\"pk\":11,\"fields\":{\"code\":\"BAM\",\"name\":\"Convertible Mark\",\"symbol\":\"KM\"}},{\"model\":\"api.Currency\",\"pk\":12,\"fields\":{\"code\":\"BBD\",\"name\":\"Barbados Dollar\",\"symbol\":\"$\"}},{\"model\":\"api.Currency\",\"pk\":13,\"fields\":{\"code\":\"BDT\",\"name\":\"Taka\",\"symbol\":null}},{\"model\":\"api.Currency\",\"pk\":14,\"fields\":{\"code\":\"BGN\",\"name\":\"Bulgarian Lev\",\"symbol\":\"\\\\u043b\\\\u0432\"}},{\"model\":\"api.Currency\",\"pk\":15,\"fields\":{\"code\":\"BHD\",\"name\":\"Bahraini Dinar\",\"symbol\":null}},{\"model\":\"api.Currency\",\"pk\":16,\"fields\":{\"code\":\"BIF\",\"name\":\"Burundi Franc\",\"symbol\":null}},{\"model\":\"api.Currency\",\"pk\":17,\"fields\":{\"code\":\"BMD\",\"name\":\"Bermudian Dollar\",\"symbol\":\"$\"}},{\"model\":\"api.Currency\",\"pk\":18,\"fields\":{\"code\":\"BND\",\"name\":\"Brunei Dollar\",\"symbol\":\"$\"}},{\"model\":\"api.Currency\",\"pk\":19,\"fields\":{\"code\":\"BOB\",\"name\":\"Boliviano\",\"symbol\":\"$b\"}},{\"model\":\"api.Currency\",\"pk\":20,\"fields\":{\"code\":\"BOV\",\"name\":\"Mvdol\",\"symbol\":null}},{\"model\":\"api.Currency\",\"pk\":21,\"fields\":{\"code\":\"BRL\",\"name\":\"Brazilian Real\",\"symbol\":\"R$\"}},{\"model\":\"api.Currency\",\"pk\":22,\"fields\":{\"code\":\"BSD\",\"name\":\"Bahamian Dollar\",\"symbol\":\"$\"}},{\"model\":\"api.Currency\",\"pk\":23,\"fields\":{\"code\":\"BTN\",\"name\":\"Ngultrum\",\"symbol\":null}},{\"model\":\"api.Currency\",\"pk\":24,\"fields\":{\"code\":\"BWP\",\"name\":\"Pula\",\"symbol\":\"P\"}},{\"model\":\"api.Currency\",\"pk\":25,\"fields\":{\"code\":\"BYR\",\"name\":\"Belarussian Ruble\",\"symbol\":\"p.\"}},{\"model\":\"api.Currency\",\"pk\":26,\"fields\":{\"code\":\"BZD\",\"name\":\"Belize Dollar\",\"symbol\":\"BZ$\"}},{\"model\":\"api.Currency\",\"pk\":27,\"fields\":{\"code\":\"CAD\",\"name\":\"Canadian Dollar\",\"symbol\":\"$\"}},{\"model\":\"api.Currency\",\"pk\":28,\"fields\":{\"code\":\"CDF\",\"name\":\"Congolese Franc\",\"symbol\":null}},{\"model\":\"api.Currency\",\"pk\":29,\"fields\":{\"code\":\"CHE\",\"name\":\"WIR Euro\",\"symbol\":null}},{\"model\":\"api.Currency\",\"pk\":30,\"fields\":{\"code\":\"CHF\",\"name\":\"Swiss Franc\",\"symbol\":null}},{\"model\":\"api.Currency\",\"pk\":31,\"fields\":{\"code\":\"CHW\",\"name\":\"WIR Franc\",\"symbol\":null}},{\"model\":\"api.Currency\",\"pk\":32,\"fields\":{\"code\":\"CLF\",\"name\":\"Unidad de Fomento\",\"symbol\":null}},{\"model\":\"api.Currency\",\"pk\":33,\"fields\":{\"code\":\"CLP\",\"name\":\"Chilean Peso\",\"symbol\":\"$\"}},{\"model\":\"api.Currency\",\"pk\":34,\"fields\":{\"code\":\"CNY\",\"name\":\"Yuan Renminbi\",\"symbol\":\"\\\\u00a5\"}},{\"model\":\"api.Currency\",\"pk\":35,\"fields\":{\"code\":\"COP\",\"name\":\"Colombian Peso\",\"symbol\":\"$\"}},{\"model\":\"api.Currency\",\"pk\":36,\"fields\":{\"code\":\"COU\",\"name\":\"Unidad de Valor Real\",\"symbol\":null}},{\"model\":\"api.Currency\",\"pk\":37,\"fields\":{\"code\":\"CRC\",\"name\":\"Costa Rican Colon\",\"symbol\":\"\\\\u20a1\"}},{\"model\":\"api.Currency\",\"pk\":38,\"fields\":{\"code\":\"CUC\",\"name\":\"Peso Convertible\",\"symbol\":null}},{\"model\":\"api.Currency\",\"pk\":39,\"fields\":{\"code\":\"CUP\",\"name\":\"Cuban Peso\",\"symbol\":\"\\\\u20b1\"}},{\"model\":\"api.Currency\",\"pk\":40,\"fields\":{\"code\":\"CVE\",\"name\":\"Cape Verde Escudo\",\"symbol\":null}},{\"model\":\"api.Currency\",\"pk\":41,\"fields\":{\"code\":\"CZK\",\"name\":\"Czech Koruna\",\"symbol\":\"K\\\\u010d\"}},{\"model\":\"api.Currency\",\"pk\":42,\"fields\":{\"code\":\"DJF\",\"name\":\"Djibouti Franc\",\"symbol\":null}},{\"model\":\"api.Currency\",\"pk\":43,\"fields\":{\"code\":\"DKK\",\"name\":\"Danish Krone\",\"symbol\":\"kr\"}},{\"model\":\"api.Currency\",\"pk\":44,\"fields\":{\"code\":\"DOP\",\"name\":\"Dominican Peso\",\"symbol\":\"RD$\"}},{\"model\":\"api.Currency\",\"pk\":45,\"fields\":{\"code\":\"DZD\",\"name\":\"Algerian Dinar\",\"symbol\":null}},{\"model\":\"api.Currency\",\"pk\":46,\"fields\":{\"code\":\"EGP\",\"name\":\"Egyptian Pound\",\"symbol\":\"\\\\u00a3\"}},{\"model\":\"api.Currency\",\"pk\":47,\"fields\":{\"code\":\"ERN\",\"name\":\"Nakfa\",\"symbol\":null}},{\"model\":\"api.Currency\",\"pk\":48,\"fields\":{\"code\":\"ETB\",\"name\":\"Ethiopian Birr\",\"symbol\":null}},{\"model\":\"api.Currency\",\"pk\":49,\"fields\":{\"code\":\"EUR\",\"name\":\"Euro\",\"symbol\":\"\\\\u20ac\"}},{\"model\":\"api.Currency\",\"pk\":50,\"fields\":{\"code\":\"FJD\",\"name\":\"Fiji Dollar\",\"symbol\":\"$\"}},{\"model\":\"api.Currency\",\"pk\":51,\"fields\":{\"code\":\"FKP\",\"name\":\"Falkland Islands Pound\",\"symbol\":\"\\\\u00a3\"}},{\"model\":\"api.Currency\",\"pk\":52,\"fields\":{\"code\":\"GBP\",\"name\":\"Pound Sterling\",\"symbol\":\"\\\\u00a3\"}},{\"model\":\"api.Currency\",\"pk\":53,\"fields\":{\"code\":\"GEL\",\"name\":\"Lari\",\"symbol\":null}},{\"model\":\"api.Currency\",\"pk\":54,\"fields\":{\"code\":\"GHS\",\"name\":\"Ghana Cedi\",\"symbol\":null}},{\"model\":\"api.Currency\",\"pk\":55,\"fields\":{\"code\":\"GIP\",\"name\":\"Gibraltar Pound\",\"symbol\":\"\\\\u00a3\"}},{\"model\":\"api.Currency\",\"pk\":56,\"fields\":{\"code\":\"GMD\",\"name\":\"Dalasi\",\"symbol\":null}},{\"model\":\"api.Currency\",\"pk\":57,\"fields\":{\"code\":\"GNF\",\"name\":\"Guinea Franc\",\"symbol\":null}},{\"model\":\"api.Currency\",\"pk\":58,\"fields\":{\"code\":\"GTQ\",\"name\":\"Quetzal\",\"symbol\":\"Q\"}},{\"model\":\"api.Currency\",\"pk\":59,\"fields\":{\"code\":\"GYD\",\"name\":\"Guyana Dollar\",\"symbol\":\"$\"}},{\"model\":\"api.Currency\",\"pk\":60,\"fields\":{\"code\":\"HKD\",\"name\":\"Hong Kong Dollar\",\"symbol\":\"$\"}},{\"model\":\"api.Currency\",\"pk\":61,\"fields\":{\"code\":\"HNL\",\"name\":\"Lempira\",\"symbol\":\"L\"}},{\"model\":\"api.Currency\",\"pk\":62,\"fields\":{\"code\":\"HRK\",\"name\":\"Croatian Kuna\",\"symbol\":\"kn\"}},{\"model\":\"api.Currency\",\"pk\":63,\"fields\":{\"code\":\"HTG\",\"name\":\"Gourde\",\"symbol\":null}},{\"model\":\"api.Currency\",\"pk\":64,\"fields\":{\"code\":\"HUF\",\"name\":\"Forint\",\"symbol\":\"Ft\"}},{\"model\":\"api.Currency\",\"pk\":65,\"fields\":{\"code\":\"IDR\",\"name\":\"Rupiah\",\"symbol\":\"Rp\"}},{\"model\":\"api.Currency\",\"pk\":66,\"fields\":{\"code\":\"ILS\",\"name\":\"New Israeli Sheqel\",\"symbol\":\"\\\\u20aa\"}},{\"model\":\"api.Currency\",\"pk\":67,\"fields\":{\"code\":\"INR\",\"name\":\"Indian Rupee\",\"symbol\":null}},{\"model\":\"api.Currency\",\"pk\":68,\"fields\":{\"code\":\"IQD\",\"name\":\"Iraqi Dinar\",\"symbol\":null}},{\"model\":\"api.Currency\",\"pk\":69,\"fields\":{\"code\":\"IRR\",\"name\":\"Iranian Rial\",\"symbol\":\"\\\\ufdfc\"}},{\"model\":\"api.Currency\",\"pk\":70,\"fields\":{\"code\":\"ISK\",\"name\":\"Iceland Krona\",\"symbol\":\"kr\"}},{\"model\":\"api.Currency\",\"pk\":71,\"fields\":{\"code\":\"JMD\",\"name\":\"Jamaican Dollar\",\"symbol\":\"J$\"}},{\"model\":\"api.Currency\",\"pk\":72,\"fields\":{\"code\":\"JOD\",\"name\":\"Jordanian Dinar\",\"symbol\":null}},{\"model\":\"api.Currency\",\"pk\":73,\"fields\":{\"code\":\"JPY\",\"name\":\"Yen\",\"symbol\":\"\\\\u00a5\"}},{\"model\":\"api.Currency\",\"pk\":74,\"fields\":{\"code\":\"KES\",\"name\":\"Kenyan Shilling\",\"symbol\":null}},{\"model\":\"api.Currency\",\"pk\":75,\"fields\":{\"code\":\"KGS\",\"name\":\"Som\",\"symbol\":\"\\\\u043b\\\\u0432\"}},{\"model\":\"api.Currency\",\"pk\":76,\"fields\":{\"code\":\"KHR\",\"name\":\"Riel\",\"symbol\":\"\\\\u17db\"}},{\"model\":\"api.Currency\",\"pk\":77,\"fields\":{\"code\":\"KMF\",\"name\":\"Comoro Franc\",\"symbol\":null}},{\"model\":\"api.Currency\",\"pk\":78,\"fields\":{\"code\":\"KPW\",\"name\":\"North Korean Won\",\"symbol\":\"\\\\u20a9\"}},{\"model\":\"api.Currency\",\"pk\":79,\"fields\":{\"code\":\"KRW\",\"name\":\"Won\",\"symbol\":\"\\\\u20a9\"}},{\"model\":\"api.Currency\",\"pk\":80,\"fields\":{\"code\":\"KWD\",\"name\":\"Kuwaiti Dinar\",\"symbol\":null}},{\"model\":\"api.Currency\",\"pk\":81,\"fields\":{\"code\":\"KYD\",\"name\":\"Cayman Islands Dollar\",\"symbol\":\"$\"}},{\"model\":\"api.Currency\",\"pk\":82,\"fields\":{\"code\":\"KZT\",\"name\":\"Tenge\",\"symbol\":\"\\\\u043b\\\\u0432\"}},{\"model\":\"api.Currency\",\"pk\":83,\"fields\":{\"code\":\"LAK\",\"name\":\"Kip\",\"symbol\":\"\\\\u20ad\"}},{\"model\":\"api.Currency\",\"pk\":84,\"fields\":{\"code\":\"LBP\",\"name\":\"Lebanese Pound\",\"symbol\":\"\\\\u00a3\"}},{\"model\":\"api.Currency\",\"pk\":85,\"fields\":{\"code\":\"LKR\",\"name\":\"Sri Lanka Rupee\",\"symbol\":\"\\\\u20a8\"}},{\"model\":\"api.Currency\",\"pk\":86,\"fields\":{\"code\":\"LRD\",\"name\":\"Liberian Dollar\",\"symbol\":\"$\"}},{\"model\":\"api.Currency\",\"pk\":87,\"fields\":{\"code\":\"LSL\",\"name\":\"Loti\",\"symbol\":null}},{\"model\":\"api.Currency\",\"pk\":88,\"fields\":{\"code\":\"LTL\",\"name\":\"Lithuanian Litas\",\"symbol\":\"Lt\"}},{\"model\":\"api.Currency\",\"pk\":89,\"fields\":{\"code\":\"LYD\",\"name\":\"Libyan Dinar\",\"symbol\":null}},{\"model\":\"api.Currency\",\"pk\":90,\"fields\":{\"code\":\"MAD\",\"name\":\"Moroccan Dirham\",\"symbol\":null}},{\"model\":\"api.Currency\",\"pk\":91,\"fields\":{\"code\":\"MDL\",\"name\":\"Moldovan Leu\",\"symbol\":null}},{\"model\":\"api.Currency\",\"pk\":92,\"fields\":{\"code\":\"MGA\",\"name\":\"Malagasy Ariary\",\"symbol\":null}},{\"model\":\"api.Currency\",\"pk\":93,\"fields\":{\"code\":\"MKD\",\"name\":\"Denar\",\"symbol\":\"\\\\u0434\\\\u0435\\\\u043d\"}},{\"model\":\"api.Currency\",\"pk\":94,\"fields\":{\"code\":\"MMK\",\"name\":\"Kyat\",\"symbol\":null}},{\"model\":\"api.Currency\",\"pk\":95,\"fields\":{\"code\":\"MNT\",\"name\":\"Tugrik\",\"symbol\":\"\\\\u20ae\"}},{\"model\":\"api.Currency\",\"pk\":96,\"fields\":{\"code\":\"MOP\",\"name\":\"Pataca\",\"symbol\":null}},{\"model\":\"api.Currency\",\"pk\":97,\"fields\":{\"code\":\"MRO\",\"name\":\"Ouguiya\",\"symbol\":null}},{\"model\":\"api.Currency\",\"pk\":98,\"fields\":{\"code\":\"MUR\",\"name\":\"Mauritius Rupee\",\"symbol\":\"\\\\u20a8\"}},{\"model\":\"api.Currency\",\"pk\":99,\"fields\":{\"code\":\"MVR\",\"name\":\"Rufiyaa\",\"symbol\":null}},{\"model\":\"api.Currency\",\"pk\":100,\"fields\":{\"code\":\"MWK\",\"name\":\"Kwacha\",\"symbol\":null}},{\"model\":\"api.Currency\",\"pk\":101,\"fields\":{\"code\":\"MXN\",\"name\":\"Mexican Peso\",\"symbol\":\"$\"}},{\"model\":\"api.Currency\",\"pk\":102,\"fields\":{\"code\":\"MXV\",\"name\":\"Mexican Unidad de Inversion (UDI)\",\"symbol\":null}},{\"model\":\"api.Currency\",\"pk\":103,\"fields\":{\"code\":\"MYR\",\"name\":\"Malaysian Ringgit\",\"symbol\":\"RM\"}},{\"model\":\"api.Currency\",\"pk\":104,\"fields\":{\"code\":\"MZN\",\"name\":\"Mozambique Metical\",\"symbol\":\"MT\"}},{\"model\":\"api.Currency\",\"pk\":105,\"fields\":{\"code\":\"NAD\",\"name\":\"Namibia Dollar\",\"symbol\":\"$\"}},{\"model\":\"api.Currency\",\"pk\":106,\"fields\":{\"code\":\"NGN\",\"name\":\"Naira\",\"symbol\":\"\\\\u20a6\"}},{\"model\":\"api.Currency\",\"pk\":107,\"fields\":{\"code\":\"NIO\",\"name\":\"Cordoba Oro\",\"symbol\":\"C$\"}},{\"model\":\"api.Currency\",\"pk\":108,\"fields\":{\"code\":\"NOK\",\"name\":\"Norwegian Krone\",\"symbol\":\"kr\"}},{\"model\":\"api.Currency\",\"pk\":109,\"fields\":{\"code\":\"NPR\",\"name\":\"Nepalese Rupee\",\"symbol\":\"\\\\u20a8\"}},{\"model\":\"api.Currency\",\"pk\":110,\"fields\":{\"code\":\"NZD\",\"name\":\"New Zealand Dollar\",\"symbol\":\"$\"}},{\"model\":\"api.Currency\",\"pk\":111,\"fields\":{\"code\":\"OMR\",\"name\":\"Rial Omani\",\"symbol\":\"\\\\ufdfc\"}},{\"model\":\"api.Currency\",\"pk\":112,\"fields\":{\"code\":\"PAB\",\"name\":\"Balboa\",\"symbol\":\"B\\\\/.\"}},{\"model\":\"api.Currency\",\"pk\":113,\"fields\":{\"code\":\"PEN\",\"name\":\"Nuevo Sol\",\"symbol\":\"S\\\\/.\"}},{\"model\":\"api.Currency\",\"pk\":114,\"fields\":{\"code\":\"PGK\",\"name\":\"Kina\",\"symbol\":null}},{\"model\":\"api.Currency\",\"pk\":115,\"fields\":{\"code\":\"PHP\",\"name\":\"Philippine Peso\",\"symbol\":\"\\\\u20b1\"}},{\"model\":\"api.Currency\",\"pk\":116,\"fields\":{\"code\":\"PKR\",\"name\":\"Pakistan Rupee\",\"symbol\":\"\\\\u20a8\"}},{\"model\":\"api.Currency\",\"pk\":117,\"fields\":{\"code\":\"PLN\",\"name\":\"Zloty\",\"symbol\":\"z\\\\u0142\"}},{\"model\":\"api.Currency\",\"pk\":118,\"fields\":{\"code\":\"PYG\",\"name\":\"Guarani\",\"symbol\":\"Gs\"}},{\"model\":\"api.Currency\",\"pk\":119,\"fields\":{\"code\":\"QAR\",\"name\":\"Qatari Rial\",\"symbol\":\"\\\\ufdfc\"}},{\"model\":\"api.Currency\",\"pk\":120,\"fields\":{\"code\":\"RON\",\"name\":\"New Romanian Leu\",\"symbol\":\"lei\"}},{\"model\":\"api.Currency\",\"pk\":121,\"fields\":{\"code\":\"RSD\",\"name\":\"Serbian Dinar\",\"symbol\":\"\\\\u0414\\\\u0438\\\\u043d.\"}},{\"model\":\"api.Currency\",\"pk\":122,\"fields\":{\"code\":\"RUB\",\"name\":\"Russian Ruble\",\"symbol\":\"\\\\u0440\\\\u0443\\\\u0431\"}},{\"model\":\"api.Currency\",\"pk\":123,\"fields\":{\"code\":\"RWF\",\"name\":\"Rwanda Franc\",\"symbol\":null}},{\"model\":\"api.Currency\",\"pk\":124,\"fields\":{\"code\":\"SAR\",\"name\":\"Saudi Riyal\",\"symbol\":\"\\\\ufdfc\"}},{\"model\":\"api.Currency\",\"pk\":125,\"fields\":{\"code\":\"SBD\",\"name\":\"Solomon Islands Dollar\",\"symbol\":\"$\"}},{\"model\":\"api.Currency\",\"pk\":126,\"fields\":{\"code\":\"SCR\",\"name\":\"Seychelles Rupee\",\"symbol\":\"\\\\u20a8\"}},{\"model\":\"api.Currency\",\"pk\":127,\"fields\":{\"code\":\"SDG\",\"name\":\"Sudanese Pound\",\"symbol\":null}},{\"model\":\"api.Currency\",\"pk\":128,\"fields\":{\"code\":\"SEK\",\"name\":\"Swedish Krona\",\"symbol\":\"kr\"}},{\"model\":\"api.Currency\",\"pk\":129,\"fields\":{\"code\":\"SGD\",\"name\":\"Singapore Dollar\",\"symbol\":\"$\"}},{\"model\":\"api.Currency\",\"pk\":130,\"fields\":{\"code\":\"SHP\",\"name\":\"Saint Helena Pound\",\"symbol\":\"\\\\u00a3\"}},{\"model\":\"api.Currency\",\"pk\":131,\"fields\":{\"code\":\"SLL\",\"name\":\"Leone\",\"symbol\":null}},{\"model\":\"api.Currency\",\"pk\":132,\"fields\":{\"code\":\"SOS\",\"name\":\"Somali Shilling\",\"symbol\":\"S\"}},{\"model\":\"api.Currency\",\"pk\":133,\"fields\":{\"code\":\"SRD\",\"name\":\"Surinam Dollar\",\"symbol\":\"$\"}},{\"model\":\"api.Currency\",\"pk\":134,\"fields\":{\"code\":\"SSP\",\"name\":\"South Sudanese Pound\",\"symbol\":null}},{\"model\":\"api.Currency\",\"pk\":135,\"fields\":{\"code\":\"STD\",\"name\":\"Dobra\",\"symbol\":null}},{\"model\":\"api.Currency\",\"pk\":136,\"fields\":{\"code\":\"SVC\",\"name\":\"El Salvador Colon\",\"symbol\":\"$\"}},{\"model\":\"api.Currency\",\"pk\":137,\"fields\":{\"code\":\"SYP\",\"name\":\"Syrian Pound\",\"symbol\":\"\\\\u00a3\"}},{\"model\":\"api.Currency\",\"pk\":138,\"fields\":{\"code\":\"SZL\",\"name\":\"Lilangeni\",\"symbol\":null}},{\"model\":\"api.Currency\",\"pk\":139,\"fields\":{\"code\":\"THB\",\"name\":\"Baht\",\"symbol\":\"\\\\u0e3f\"}},{\"model\":\"api.Currency\",\"pk\":140,\"fields\":{\"code\":\"TJS\",\"name\":\"Somoni\",\"symbol\":null}},{\"model\":\"api.Currency\",\"pk\":141,\"fields\":{\"code\":\"TMT\",\"name\":\"Turkmenistan New Manat\",\"symbol\":null}},{\"model\":\"api.Currency\",\"pk\":142,\"fields\":{\"code\":\"TND\",\"name\":\"Tunisian Dinar\",\"symbol\":null}},{\"model\":\"api.Currency\",\"pk\":143,\"fields\":{\"code\":\"TOP\",\"name\":\"Pa\\'anga\",\"symbol\":null}},{\"model\":\"api.Currency\",\"pk\":144,\"fields\":{\"code\":\"TRY\",\"name\":\"Turkish Lira\",\"symbol\":null}},{\"model\":\"api.Currency\",\"pk\":145,\"fields\":{\"code\":\"TTD\",\"name\":\"Trinidad and Tobago Dollar\",\"symbol\":\"TT$\"}},{\"model\":\"api.Currency\",\"pk\":146,\"fields\":{\"code\":\"TWD\",\"name\":\"New Taiwan Dollar\",\"symbol\":\"NT$\"}},{\"model\":\"api.Currency\",\"pk\":147,\"fields\":{\"code\":\"TZS\",\"name\":\"Tanzanian Shilling\",\"symbol\":null}},{\"model\":\"api.Currency\",\"pk\":148,\"fields\":{\"code\":\"UAH\",\"name\":\"Hryvnia\",\"symbol\":\"\\\\u20b4\"}},{\"model\":\"api.Currency\",\"pk\":149,\"fields\":{\"code\":\"UGX\",\"name\":\"Uganda Shilling\",\"symbol\":null}},{\"model\":\"api.Currency\",\"pk\":150,\"fields\":{\"code\":\"USD\",\"name\":\"US Dollar\",\"symbol\":\"$\"}},{\"model\":\"api.Currency\",\"pk\":151,\"fields\":{\"code\":\"USN\",\"name\":\"US Dollar (Next day)\",\"symbol\":null}},{\"model\":\"api.Currency\",\"pk\":152,\"fields\":{\"code\":\"UYI\",\"name\":\"Uruguay Peso en Unidades Indexadas (URUIURUI)\",\"symbol\":null}},{\"model\":\"api.Currency\",\"pk\":153,\"fields\":{\"code\":\"UYU\",\"name\":\"Peso Uruguayo\",\"symbol\":\"$U\"}},{\"model\":\"api.Currency\",\"pk\":154,\"fields\":{\"code\":\"UZS\",\"name\":\"Uzbekistan Sum\",\"symbol\":\"\\\\u043b\\\\u0432\"}},{\"model\":\"api.Currency\",\"pk\":155,\"fields\":{\"code\":\"VEF\",\"name\":\"Bolivar\",\"symbol\":\"Bs\"}},{\"model\":\"api.Currency\",\"pk\":156,\"fields\":{\"code\":\"VND\",\"name\":\"Dong\",\"symbol\":\"\\\\u20ab\"}},{\"model\":\"api.Currency\",\"pk\":157,\"fields\":{\"code\":\"VUV\",\"name\":\"Vatu\",\"symbol\":null}},{\"model\":\"api.Currency\",\"pk\":158,\"fields\":{\"code\":\"WST\",\"name\":\"Tala\",\"symbol\":null}},{\"model\":\"api.Currency\",\"pk\":159,\"fields\":{\"code\":\"XAF\",\"name\":\"CFA Franc BEAC\",\"symbol\":null}},{\"model\":\"api.Currency\",\"pk\":160,\"fields\":{\"code\":\"XAG\",\"name\":\"Silver\",\"symbol\":null}},{\"model\":\"api.Currency\",\"pk\":161,\"fields\":{\"code\":\"XAU\",\"name\":\"Gold\",\"symbol\":null}},{\"model\":\"api.Currency\",\"pk\":162,\"fields\":{\"code\":\"XBA\",\"name\":\"Bond Markets Unit European Composite Unit (EURCO)\",\"symbol\":null}},{\"model\":\"api.Currency\",\"pk\":163,\"fields\":{\"code\":\"XBB\",\"name\":\"Bond Markets Unit European Monetary Unit (E.M.U.-6)\",\"symbol\":null}},{\"model\":\"api.Currency\",\"pk\":164,\"fields\":{\"code\":\"XBC\",\"name\":\"Bond Markets Unit European Unit of Account 9 (E.U.A.-9)\",\"symbol\":null}},{\"model\":\"api.Currency\",\"pk\":165,\"fields\":{\"code\":\"XBD\",\"name\":\"Bond Markets Unit European Unit of Account 17 (E.U.A.-17)\",\"symbol\":null}},{\"model\":\"api.Currency\",\"pk\":166,\"fields\":{\"code\":\"XCD\",\"name\":\"East Caribbean Dollar\",\"symbol\":\"$\"}},{\"model\":\"api.Currency\",\"pk\":167,\"fields\":{\"code\":\"XDR\",\"name\":\"SDR (Special Drawing Right)\",\"symbol\":null}},{\"model\":\"api.Currency\",\"pk\":168,\"fields\":{\"code\":\"XOF\",\"name\":\"CFA Franc BCEAO\",\"symbol\":null}},{\"model\":\"api.Currency\",\"pk\":169,\"fields\":{\"code\":\"XPD\",\"name\":\"Palladium\",\"symbol\":null}},{\"model\":\"api.Currency\",\"pk\":170,\"fields\":{\"code\":\"XPF\",\"name\":\"CFP Franc\",\"symbol\":null}},{\"model\":\"api.Currency\",\"pk\":171,\"fields\":{\"code\":\"XPT\",\"name\":\"Platinum\",\"symbol\":null}},{\"model\":\"api.Currency\",\"pk\":172,\"fields\":{\"code\":\"XSU\",\"name\":\"Sucre\",\"symbol\":null}},{\"model\":\"api.Currency\",\"pk\":173,\"fields\":{\"code\":\"XTS\",\"name\":\"Codes specifically reserved for testing purposes\",\"symbol\":null}},{\"model\":\"api.Currency\",\"pk\":174,\"fields\":{\"code\":\"XUA\",\"name\":\"ADB Unit of Account\",\"symbol\":null}},{\"model\":\"api.Currency\",\"pk\":175,\"fields\":{\"code\":\"XXX\",\"name\":\"The codes assigned for transactions where no currency is involved\",\"symbol\":null}},{\"model\":\"api.Currency\",\"pk\":176,\"fields\":{\"code\":\"YER\",\"name\":\"Yemeni Rial\",\"symbol\":\"\\\\ufdfc\"}},{\"model\":\"api.Currency\",\"pk\":177,\"fields\":{\"code\":\"ZAR\",\"name\":\"Rand\",\"symbol\":\"R\"}},{\"model\":\"api.Currency\",\"pk\":178,\"fields\":{\"code\":\"ZMW\",\"name\":\"Zambian Kwacha\",\"symbol\":null}},{\"model\":\"api.Currency\",\"pk\":179,\"fields\":{\"code\":\"ZWL\",\"name\":\"Zimbabwe Dollar\",\"symbol\":null}},{\"model\":\"api.Currency\",\"pk\":180,\"fields\":{\"code\":\"NON\",\"name\":\"No currency defined\",\"symbol\":null}}]'"
      ]
     },
     "execution_count": 36,
     "metadata": {},
     "output_type": "execute_result"
    }
   ],
   "source": []
  },
  {
   "cell_type": "code",
   "execution_count": 15,
   "metadata": {},
   "outputs": [
    {
     "data": {
      "text/html": [
       "<div>\n",
       "<style scoped>\n",
       "    .dataframe tbody tr th:only-of-type {\n",
       "        vertical-align: middle;\n",
       "    }\n",
       "\n",
       "    .dataframe tbody tr th {\n",
       "        vertical-align: top;\n",
       "    }\n",
       "\n",
       "    .dataframe thead th {\n",
       "        text-align: right;\n",
       "    }\n",
       "</style>\n",
       "<table border=\"1\" class=\"dataframe\">\n",
       "  <thead>\n",
       "    <tr style=\"text-align: right;\">\n",
       "      <th></th>\n",
       "      <th>id</th>\n",
       "      <th>name</th>\n",
       "      <th>ISO2</th>\n",
       "      <th>ISO3</th>\n",
       "      <th>currency_id</th>\n",
       "      <th>language_id</th>\n",
       "    </tr>\n",
       "  </thead>\n",
       "  <tbody>\n",
       "    <tr>\n",
       "      <td>0</td>\n",
       "      <td>1</td>\n",
       "      <td>Andorra</td>\n",
       "      <td>AD</td>\n",
       "      <td>AND</td>\n",
       "      <td>49</td>\n",
       "      <td>23</td>\n",
       "    </tr>\n",
       "    <tr>\n",
       "      <td>1</td>\n",
       "      <td>2</td>\n",
       "      <td>United Arab Emirates</td>\n",
       "      <td>AE</td>\n",
       "      <td>ARE</td>\n",
       "      <td>1</td>\n",
       "      <td>8</td>\n",
       "    </tr>\n",
       "    <tr>\n",
       "      <td>2</td>\n",
       "      <td>3</td>\n",
       "      <td>Afghanistan</td>\n",
       "      <td>AF</td>\n",
       "      <td>AFG</td>\n",
       "      <td>2</td>\n",
       "      <td>130</td>\n",
       "    </tr>\n",
       "    <tr>\n",
       "      <td>3</td>\n",
       "      <td>4</td>\n",
       "      <td>Antigua and Barbuda</td>\n",
       "      <td>AG</td>\n",
       "      <td>ATG</td>\n",
       "      <td>166</td>\n",
       "      <td>38</td>\n",
       "    </tr>\n",
       "    <tr>\n",
       "      <td>4</td>\n",
       "      <td>5</td>\n",
       "      <td>Anguilla</td>\n",
       "      <td>AI</td>\n",
       "      <td>AIA</td>\n",
       "      <td>166</td>\n",
       "      <td>38</td>\n",
       "    </tr>\n",
       "  </tbody>\n",
       "</table>\n",
       "</div>"
      ],
      "text/plain": [
       "   id                  name ISO2 ISO3  currency_id  language_id\n",
       "0   1               Andorra   AD  AND           49           23\n",
       "1   2  United Arab Emirates   AE  ARE            1            8\n",
       "2   3           Afghanistan   AF  AFG            2          130\n",
       "3   4   Antigua and Barbuda   AG  ATG          166           38\n",
       "4   5              Anguilla   AI  AIA          166           38"
      ]
     },
     "execution_count": 15,
     "metadata": {},
     "output_type": "execute_result"
    }
   ],
   "source": [
    "#convert country.tsv to valid fixtures json\n",
    "country_df = pd.read_csv('../data_lists/country.tsv', '\\t')\n",
    "country_df.head()"
   ]
  },
  {
   "cell_type": "code",
   "execution_count": 21,
   "metadata": {},
   "outputs": [
    {
     "data": {
      "text/html": [
       "<div>\n",
       "<style scoped>\n",
       "    .dataframe tbody tr th:only-of-type {\n",
       "        vertical-align: middle;\n",
       "    }\n",
       "\n",
       "    .dataframe tbody tr th {\n",
       "        vertical-align: top;\n",
       "    }\n",
       "\n",
       "    .dataframe thead th {\n",
       "        text-align: right;\n",
       "    }\n",
       "</style>\n",
       "<table border=\"1\" class=\"dataframe\">\n",
       "  <thead>\n",
       "    <tr style=\"text-align: right;\">\n",
       "      <th></th>\n",
       "      <th>id</th>\n",
       "      <th>name</th>\n",
       "      <th>xqid</th>\n",
       "      <th>latitude</th>\n",
       "      <th>longitude</th>\n",
       "      <th>country_id</th>\n",
       "    </tr>\n",
       "  </thead>\n",
       "  <tbody>\n",
       "    <tr>\n",
       "      <td>0</td>\n",
       "      <td>1</td>\n",
       "      <td>Andorra la Vella</td>\n",
       "      <td>ALV</td>\n",
       "      <td>42.506317</td>\n",
       "      <td>1.521835</td>\n",
       "      <td>1</td>\n",
       "    </tr>\n",
       "    <tr>\n",
       "      <td>1</td>\n",
       "      <td>2</td>\n",
       "      <td>Abu Dhabi</td>\n",
       "      <td>AUH</td>\n",
       "      <td>24.433001</td>\n",
       "      <td>54.651100</td>\n",
       "      <td>2</td>\n",
       "    </tr>\n",
       "    <tr>\n",
       "      <td>2</td>\n",
       "      <td>3</td>\n",
       "      <td>Ajman</td>\n",
       "      <td>QAJ</td>\n",
       "      <td>25.405217</td>\n",
       "      <td>55.513643</td>\n",
       "      <td>2</td>\n",
       "    </tr>\n",
       "    <tr>\n",
       "      <td>3</td>\n",
       "      <td>4</td>\n",
       "      <td>Al Ain</td>\n",
       "      <td>AAN</td>\n",
       "      <td>24.261700</td>\n",
       "      <td>55.609200</td>\n",
       "      <td>2</td>\n",
       "    </tr>\n",
       "    <tr>\n",
       "      <td>4</td>\n",
       "      <td>5</td>\n",
       "      <td>Al Dhafra</td>\n",
       "      <td>DHF</td>\n",
       "      <td>24.248199</td>\n",
       "      <td>54.547699</td>\n",
       "      <td>2</td>\n",
       "    </tr>\n",
       "  </tbody>\n",
       "</table>\n",
       "</div>"
      ],
      "text/plain": [
       "   id              name xqid   latitude  longitude  country_id\n",
       "0   1  Andorra la Vella  ALV  42.506317   1.521835           1\n",
       "1   2         Abu Dhabi  AUH  24.433001  54.651100           2\n",
       "2   3             Ajman  QAJ  25.405217  55.513643           2\n",
       "3   4            Al Ain  AAN  24.261700  55.609200           2\n",
       "4   5         Al Dhafra  DHF  24.248199  54.547699           2"
      ]
     },
     "execution_count": 21,
     "metadata": {},
     "output_type": "execute_result"
    }
   ],
   "source": [
    "#convert city.tsv to valid fixtures json\n",
    "city_df = pd.read_csv('../data_lists/city.tsv', '\\t')\n",
    "city_df.head()"
   ]
  },
  {
   "cell_type": "code",
   "execution_count": 29,
   "metadata": {},
   "outputs": [
    {
     "data": {
      "text/html": [
       "<div>\n",
       "<style scoped>\n",
       "    .dataframe tbody tr th:only-of-type {\n",
       "        vertical-align: middle;\n",
       "    }\n",
       "\n",
       "    .dataframe tbody tr th {\n",
       "        vertical-align: top;\n",
       "    }\n",
       "\n",
       "    .dataframe thead th {\n",
       "        text-align: right;\n",
       "    }\n",
       "</style>\n",
       "<table border=\"1\" class=\"dataframe\">\n",
       "  <thead>\n",
       "    <tr style=\"text-align: right;\">\n",
       "      <th></th>\n",
       "      <th>id</th>\n",
       "      <th>xqid</th>\n",
       "      <th>name</th>\n",
       "      <th>fullname</th>\n",
       "      <th>format</th>\n",
       "    </tr>\n",
       "  </thead>\n",
       "  <tbody>\n",
       "    <tr>\n",
       "      <td>0</td>\n",
       "      <td>1</td>\n",
       "      <td>VOL</td>\n",
       "      <td>\\N</td>\n",
       "      <td>None</td>\n",
       "      <td>NaN</td>\n",
       "    </tr>\n",
       "    <tr>\n",
       "      <td>1</td>\n",
       "      <td>2</td>\n",
       "      <td>SQM</td>\n",
       "      <td>sqm</td>\n",
       "      <td>square meters</td>\n",
       "      <td>#,##0.0</td>\n",
       "    </tr>\n",
       "    <tr>\n",
       "      <td>2</td>\n",
       "      <td>4</td>\n",
       "      <td>PCT</td>\n",
       "      <td>NaN</td>\n",
       "      <td>per cent</td>\n",
       "      <td>0.0%</td>\n",
       "    </tr>\n",
       "    <tr>\n",
       "      <td>3</td>\n",
       "      <td>5</td>\n",
       "      <td>PRS</td>\n",
       "      <td>ppl</td>\n",
       "      <td>persons</td>\n",
       "      <td>#</td>\n",
       "    </tr>\n",
       "  </tbody>\n",
       "</table>\n",
       "</div>"
      ],
      "text/plain": [
       "   id xqid name       fullname   format\n",
       "0   1  VOL   \\N           None      NaN\n",
       "1   2  SQM  sqm  square meters  #,##0.0\n",
       "2   4  PCT  NaN       per cent     0.0%\n",
       "3   5  PRS  ppl        persons        #"
      ]
     },
     "execution_count": 29,
     "metadata": {},
     "output_type": "execute_result"
    }
   ],
   "source": [
    "#convert unit.tsv to valid fixtures json\n",
    "unit_df = pd.read_csv('../data_lists/unit.tsv', '\\t')\n",
    "unit_df.head()"
   ]
  },
  {
   "cell_type": "code",
   "execution_count": 30,
   "metadata": {},
   "outputs": [],
   "source": [
    "def unit_tsv_to_json(row):\n",
    "    return {\n",
    "        \"model\": \"api.Unit\",\n",
    "        \"pk\": row['id'],\n",
    "        \"fields\": {\n",
    "            \"name\": row['name'],\n",
    "            \"fullname\": row['fullname'],\n",
    "        }\n",
    "    }\n",
    "\n",
    "def currency_tsv_to_json(row):\n",
    "    return {\n",
    "        \"model\": \"api.Currency\",\n",
    "        \"pk\": row['id'],\n",
    "        \"fields\": {\n",
    "            \"code\":row['ISO3'],\n",
    "            \"name\": row['name'],\n",
    "            \"symbol\": row['symbol']\n",
    "        }\n",
    "    }\n",
    "\n",
    "def countries_tsv_to_json(row):\n",
    "    return{\n",
    "        \"model\": \"api.Country\",\n",
    "        \"pk\": row['id'],\n",
    "        \"fields\": {\n",
    "            \"name\": row['name'],\n",
    "            \"alpha2_code\": row['ISO2'],\n",
    "            \"alpha3_code\": row['ISO3'],\n",
    "            \"currency\": row['currency_id'],\n",
    "            \"shape\": None,\n",
    "            \"point\": None,\n",
    "        }\n",
    "    }\n",
    "\n",
    "def city_tsv_to_json(row):\n",
    "    return {\n",
    "        \"model\": \"api.City\",\n",
    "        \"pk\": row['id'],\n",
    "        \"fields\": {\n",
    "            \"name\": row['name'],\n",
    "            \"country\": row['country_id'],\n",
    "            \"point\": 'POINT ({lat} {lng})'.format(lat=row['latitude'], lng=row['longitude']),\n",
    "            \"shape\": None,\n",
    "        }\n",
    "    }"
   ]
  },
  {
   "cell_type": "code",
   "execution_count": 24,
   "metadata": {},
   "outputs": [],
   "source": [
    "cities = city_df.apply(city_tsv_to_json, axis=1)"
   ]
  },
  {
   "cell_type": "code",
   "execution_count": 25,
   "metadata": {},
   "outputs": [
    {
     "data": {
      "text/plain": [
       "{'model': 'api.City',\n",
       " 'pk': 1,\n",
       " 'fields': {'name': 'Andorra la Vella',\n",
       "  'country': 1,\n",
       "  'point': 'POINT (42.506316999999996 1.521835)',\n",
       "  'shape': None}}"
      ]
     },
     "execution_count": 25,
     "metadata": {},
     "output_type": "execute_result"
    }
   ],
   "source": [
    "cities[0]"
   ]
  },
  {
   "cell_type": "code",
   "execution_count": null,
   "metadata": {},
   "outputs": [],
   "source": []
  }
 ],
 "metadata": {
  "kernelspec": {
   "display_name": "Python 3",
   "language": "python",
   "name": "python3"
  },
  "language_info": {
   "codemirror_mode": {
    "name": "ipython",
    "version": 3
   },
   "file_extension": ".py",
   "mimetype": "text/x-python",
   "name": "python",
   "nbconvert_exporter": "python",
   "pygments_lexer": "ipython3",
   "version": "3.7.4"
  }
 },
 "nbformat": 4,
 "nbformat_minor": 2
}
